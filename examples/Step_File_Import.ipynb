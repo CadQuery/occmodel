{
 "cells": [
  {
   "cell_type": "code",
   "execution_count": 4,
   "metadata": {
    "collapsed": false
   },
   "outputs": [],
   "source": [
    "%gui qt\n",
    "\n",
    "from viewer.vtkviewer import SimpleVtkViewer, get_QApplication\n",
    "\n",
    "import numpy as np\n",
    "\n",
    "from occmodel import Tools\n",
    "from geotools import Plane"
   ]
  },
  {
   "cell_type": "code",
   "execution_count": null,
   "metadata": {
    "collapsed": true
   },
   "outputs": [],
   "source": [
    "try:\n",
    "    a = get_QApplication([])\n",
    "except:\n",
    "    pass\n",
    "\n",
    "vtkWin = SimpleVtkViewer()\n",
    "vtkWin.hide_axes()"
   ]
  },
  {
   "cell_type": "code",
   "execution_count": null,
   "metadata": {
    "collapsed": false
   },
   "outputs": [],
   "source": [
    "stepFile = './bearing.step'\n",
    "\n",
    "shapeList = Tools.readSTEP(stepFile)\n",
    "\n",
    "for shape in shapeList:\n",
    "    actor = shape.toVtkActor()\n",
    "    vtkWin.add_actor(actor)\n",
    "    \n",
    "\n",
    "# If the VTK window is blank/white, click on the window and hit 'r'  to zoom to fit.\n",
    "\n",
    "# See OCCT_Bottle_Example for mouse and keyboard commands for interacting with the rendered STEP file."
   ]
  },
  {
   "cell_type": "code",
   "execution_count": null,
   "metadata": {
    "collapsed": true
   },
   "outputs": [],
   "source": []
  }
 ],
 "metadata": {
  "kernelspec": {
   "display_name": "Python 3",
   "language": "python",
   "name": "python3"
  },
  "language_info": {
   "codemirror_mode": {
    "name": "ipython",
    "version": 3
   },
   "file_extension": ".py",
   "mimetype": "text/x-python",
   "name": "python",
   "nbconvert_exporter": "python",
   "pygments_lexer": "ipython3",
   "version": "3.5.1"
  }
 },
 "nbformat": 4,
 "nbformat_minor": 0
}
