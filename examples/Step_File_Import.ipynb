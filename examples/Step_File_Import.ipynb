{
 "cells": [
  {
   "cell_type": "code",
   "execution_count": 1,
   "metadata": {
    "collapsed": true
   },
   "outputs": [],
   "source": [
    "from PySide.QtGui import QApplication\n",
    "from viewer.vtkviewer import SimpleVtkViewer\n",
    "\n",
    "import numpy as np\n",
    "\n",
    "from occmodel import Tools\n",
    "from geotools import Plane"
   ]
  },
  {
   "cell_type": "code",
   "execution_count": 2,
   "metadata": {
    "collapsed": true
   },
   "outputs": [],
   "source": [
    "%gui qt\n",
    "\n",
    "try:\n",
    "    a = QApplication([])\n",
    "except:\n",
    "    pass\n",
    "\n",
    "vtkWin = SimpleVtkViewer()"
   ]
  },
  {
   "cell_type": "code",
   "execution_count": 3,
   "metadata": {
    "collapsed": false
   },
   "outputs": [],
   "source": [
    "stepFile = './bearing.step'\n",
    "\n",
    "shapeList = Tools.readSTEP(stepFile)\n",
    "\n",
    "for shape in shapeList:\n",
    "    actor = shape.toVtkActor()\n",
    "    vtkWin.add_actor(actor)\n",
    "    \n",
    "\n",
    "# If the VTK window is blank/white, click on the window and hit 'r' \n",
    "# to zoom to fit."
   ]
  },
  {
   "cell_type": "code",
   "execution_count": null,
   "metadata": {
    "collapsed": true
   },
   "outputs": [],
   "source": []
  }
 ],
 "metadata": {
  "kernelspec": {
   "display_name": "Python 2",
   "language": "python",
   "name": "python2"
  },
  "language_info": {
   "codemirror_mode": {
    "name": "ipython",
    "version": 2
   },
   "file_extension": ".py",
   "mimetype": "text/x-python",
   "name": "python",
   "nbconvert_exporter": "python",
   "pygments_lexer": "ipython2",
   "version": "2.7.9"
  }
 },
 "nbformat": 4,
 "nbformat_minor": 0
}
