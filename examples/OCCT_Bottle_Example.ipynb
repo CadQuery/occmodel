{
 "cells": [
  {
   "cell_type": "code",
   "execution_count": 1,
   "metadata": {
    "collapsed": false
   },
   "outputs": [],
   "source": [
    "from PySide.QtGui import QApplication\n",
    "from viewer.vtkviewer import SimpleVtkViewer\n",
    "\n",
    "import numpy as np\n",
    "\n",
    "from occmodel import Edge, EdgeIterator, Wire, Face, FaceIterator, Solid\n",
    "from geotools import Plane"
   ]
  },
  {
   "cell_type": "markdown",
   "metadata": {
    "collapsed": true
   },
   "source": [
    "### [OCCT Bottle Tutorial](http://dev.opencascade.org/doc/overview/html/occt__tutorial.html)"
   ]
  },
  {
   "cell_type": "code",
   "execution_count": 2,
   "metadata": {
    "collapsed": false
   },
   "outputs": [],
   "source": [
    "height = 70.\n",
    "width = 50.\n",
    "thickness = 30.\n",
    "\n",
    "pnt1 = [-width/2.,  0.,           0.]\n",
    "pnt2 = [-width/2., -thickness/4., 0.]\n",
    "pnt3 = [0.,        -thickness/2., 0.]\n",
    "pnt4 = [width/2.,  -thickness/4., 0.]\n",
    "pnt5 = [width/2.,   0.,           0.]\n",
    "\n",
    "edge1 = Edge().createLine(start=pnt1, end=pnt2)\n",
    "edge2 = Edge().createArc3P(start=pnt2, end=pnt4, pnt=pnt3)\n",
    "edge3 = Edge().createLine(start=pnt4, end=pnt5)\n",
    "\n",
    "halfProfile = Wire([edge1, edge2, edge3])\n",
    "\n",
    "mirrorPlane = Plane(origin=[0,0,0], xaxis=[1,0,0], yaxis=[0,0,1])\n",
    "mirrorProfile = halfProfile.mirror(mirrorPlane, copy=True)\n",
    "\n",
    "allEdges = list(EdgeIterator(halfProfile)) + list(EdgeIterator(mirrorProfile))\n",
    "\n",
    "fullProfile = Wire().createWire(allEdges)\n",
    "\n",
    "bottomFace = Face().createFace(fullProfile)\n",
    "\n",
    "body = Solid().extrude(bottomFace, (0, 0, 0), (0, 0, height))\n",
    "body.fillet(thickness/12.)\n",
    "\n",
    "neckHeight = height/10\n",
    "neckRadius = thickness/4\n",
    "neck = Solid().createCylinder([0,0,0], [0,0,neckHeight], radius=neckRadius)\n",
    "neck.translate([0, 0, height])\n",
    "\n",
    "body.fuse(neck)\n",
    "\n",
    "zMax = -1\n",
    "neckTopFace = None\n",
    "for f in FaceIterator(body):\n",
    "    [x, y , z] = f.centreOfMass()\n",
    "    if z >= zMax:\n",
    "        neckTopFace = f\n",
    "        zMax = z\n",
    "        \n",
    "body.shell(thickness/50., [neckTopFace], tolerance=1E-3)\n",
    "\n",
    "t_thick = neckHeight/5\n",
    "t_height = neckHeight - t_thick\n",
    "t_radius = neckRadius + t_thick/4\n",
    "t_pitch = t_height/2\n",
    "t_angle = 0\n",
    "\n",
    "# Note the following thread geometry is not correct.  The profile\n",
    "# is wrong and there is a twist added to the profile. But it's\n",
    "# kind of close and good enough for this example.\n",
    "threadHelix = Edge().createHelix(pitch=t_pitch, \n",
    "                                 height=t_height,\n",
    "                                 radius=t_radius,\n",
    "                                 angle = t_angle)\n",
    "\n",
    "threadFace = Face().createPolygonal([[0,    0,        t_thick/2], \n",
    "                                     [t_thick,  .0,   0], \n",
    "                                     [0,    0,      -t_thick/2]])\n",
    "threadFace.translate([t_radius, 0, 0])\n",
    "\n",
    "thread = Solid().pipe(threadFace, threadHelix)\n",
    "thread.translate([0, 0, height])\n",
    "\n",
    "body.fuse(thread)\n",
    "\n",
    "actor = body.toVtkActor()"
   ]
  },
  {
   "cell_type": "code",
   "execution_count": 3,
   "metadata": {
    "collapsed": false
   },
   "outputs": [],
   "source": [
    "%gui qt\n",
    "\n",
    "try:\n",
    "    a = QApplication([])\n",
    "except:\n",
    "    pass\n",
    "\n",
    "vtkWin = SimpleVtkViewer()\n",
    "\n",
    "vtkWin.add_actor(actor)\n",
    "\n",
    "# If the VTK window is blank/white, click on the window and hit 'r' \n",
    "# to zoom to fit."
   ]
  },
  {
   "cell_type": "code",
   "execution_count": null,
   "metadata": {
    "collapsed": true
   },
   "outputs": [],
   "source": []
  }
 ],
 "metadata": {
  "kernelspec": {
   "display_name": "Python 2",
   "language": "python",
   "name": "python2"
  },
  "language_info": {
   "codemirror_mode": {
    "name": "ipython",
    "version": 2
   },
   "file_extension": ".py",
   "mimetype": "text/x-python",
   "name": "python",
   "nbconvert_exporter": "python",
   "pygments_lexer": "ipython2",
   "version": "2.7.9"
  }
 },
 "nbformat": 4,
 "nbformat_minor": 0
}
