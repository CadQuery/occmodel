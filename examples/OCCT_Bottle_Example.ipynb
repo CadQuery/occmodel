{
 "cells": [
  {
   "cell_type": "code",
   "execution_count": 1,
   "metadata": {
    "collapsed": false
   },
   "outputs": [],
   "source": [
    "%gui qt\n",
    "\n",
    "from viewer.vtkviewer import SimpleVtkViewer, get_QApplication\n",
    "\n",
    "import numpy as np\n",
    "\n",
    "from occmodel import Edge, EdgeIterator, Wire, Face, FaceIterator, Solid\n",
    "from geotools import Plane"
   ]
  },
  {
   "cell_type": "markdown",
   "metadata": {
    "collapsed": true
   },
   "source": [
    "### [OCCT Bottle Tutorial](http://dev.opencascade.org/doc/overview/html/occt__tutorial.html)"
   ]
  },
  {
   "cell_type": "code",
   "execution_count": 2,
   "metadata": {
    "collapsed": false
   },
   "outputs": [],
   "source": [
    "height = 70.\n",
    "width = 50.\n",
    "thickness = 30.\n",
    "\n",
    "pnt1 = [-width/2.,  0.,           0.]\n",
    "pnt2 = [-width/2., -thickness/4., 0.]\n",
    "pnt3 = [0.,        -thickness/2., 0.]\n",
    "pnt4 = [width/2.,  -thickness/4., 0.]\n",
    "pnt5 = [width/2.,   0.,           0.]\n",
    "\n",
    "edge1 = Edge().createLine(start=pnt1, end=pnt2)\n",
    "edge2 = Edge().createArc3P(start=pnt2, end=pnt4, pnt=pnt3)\n",
    "edge3 = Edge().createLine(start=pnt4, end=pnt5)\n",
    "\n",
    "halfProfile = Wire([edge1, edge2, edge3])\n",
    "\n",
    "mirrorPlane = Plane(origin=[0,0,0], xaxis=[1,0,0], yaxis=[0,0,1])\n",
    "mirrorProfile = halfProfile.mirror(mirrorPlane, copy=True)\n",
    "\n",
    "allEdges = list(EdgeIterator(halfProfile)) + list(EdgeIterator(mirrorProfile))\n",
    "\n",
    "fullProfile = Wire().createWire(allEdges)\n",
    "\n",
    "bottomFace = Face().createFace(fullProfile)\n",
    "\n",
    "body = Solid().extrude(bottomFace, (0, 0, 0), (0, 0, height))\n",
    "body.fillet(thickness/12.)\n",
    "\n",
    "neckHeight = height/10\n",
    "neckRadius = thickness/4\n",
    "neck = Solid().createCylinder([0,0,0], [0,0,neckHeight], radius=neckRadius)\n",
    "neck.translate([0, 0, height])\n",
    "\n",
    "body.fuse(neck)\n",
    "\n",
    "zMax = -1\n",
    "neckTopFace = None\n",
    "for f in FaceIterator(body):\n",
    "    [x, y , z] = f.centreOfMass()\n",
    "    if z >= zMax:\n",
    "        neckTopFace = f\n",
    "        zMax = z\n",
    "        \n",
    "body.shell(thickness/50., [neckTopFace], tolerance=1E-3)\n",
    "\n",
    "t_thick = neckHeight/5\n",
    "t_height = neckHeight - t_thick\n",
    "t_radius = neckRadius + t_thick/4\n",
    "t_pitch = t_height/2\n",
    "t_angle = 0\n",
    "\n",
    "# Note the following thread geometry is not correct.  The profile\n",
    "# is wrong and there is a twist added to the profile. But it's\n",
    "# kind of close and good enough for this example.\n",
    "threadHelix = Edge().createHelix(pitch=t_pitch, \n",
    "                                 height=t_height,\n",
    "                                 radius=t_radius,\n",
    "                                 angle = t_angle)\n",
    "\n",
    "threadFace = Face().createPolygonal([[0,    0,        t_thick/2], \n",
    "                                     [t_thick,  .0,   0], \n",
    "                                     [0,    0,      -t_thick/2]])\n",
    "threadFace.translate([t_radius, 0, 0])\n",
    "\n",
    "thread = Solid().pipe(threadFace, threadHelix)\n",
    "thread.translate([0, 0, height])\n",
    "\n",
    "body.fuse(thread)\n",
    "\n",
    "actor = body.toVtkActor()"
   ]
  },
  {
   "cell_type": "markdown",
   "metadata": {},
   "source": [
    "### VTK Viewer\n",
    "\n",
    "The following summarizes the mouse and keyboard commands for interacting with shapes rendered in the viewer.\n",
    "\n",
    "- __Keypress j / Keypress t:__ toggle between joystick (position sensitive) and trackball (motion sensitive) styles. In joystick style, motion occurs continuously as long as a mouse button is pressed. In trackball style, motion occurs when the mouse button is pressed and the mouse pointer moves.\n",
    "\n",
    "- __Keypress c / Keypress a:__ toggle between camera and actor modes. In camera mode, mouse events affect the camera position and focal point. In actor mode, mouse events affect the actor that is under the mouse pointer.\n",
    "\n",
    "- __Button 1:__ rotate the camera around its focal point (if camera mode) or rotate the actor around its origin (if actor mode). The rotation is in the direction defined from the center of the renderer's viewport towards the mouse position. In joystick mode, the magnitude of the rotation is determined by the distance the mouse is from the center of the render window.\n",
    "\n",
    "- __Button 2:__ pan the camera (if camera mode) or translate the actor (if object mode). In joystick mode, the direction of pan or translation is from the center of the viewport towards the mouse position. In trackball mode, the direction of motion is the direction the mouse moves. (Note: with 2-button mice, pan is defined as `<Shift>`Button 1.)\n",
    "\n",
    "- __Button 3:__ zoom the camera (if camera mode) or scale the actor (if object mode). Zoom in/increase scale if the mouse position is in the top half of the viewport; zoom out/decrease scale if the mouse position is in the bottom half. In joystick mode, the amount of zoom is controlled by the distance of the mouse pointer from the horizontal centerline of the window.\n",
    "\n",
    "- __Keypress 3:__ toggle the render window into and out of stereo mode.  By default, red-blue stereo pairs are created. Some systems support Crystal Eyes LCD stereo glasses; you have to invoke SetStereoTypeToCrystalEyes() on the rendering window object.  Note: to use stereo you also need to pass a stereo=1 keyword argument to the render window object constructor.\n",
    "\n",
    "- __Keypress e:__ exit the application.\n",
    "\n",
    "- __Keypress f:__ fly to the picked point\n",
    "\n",
    "- __Keypress p:__ perform a pick operation. The render window interactor has an internal instance of vtkCellPicker that it uses to pick.\n",
    "\n",
    "- __Keypress r:__ reset the camera view along the current view direction. Centers the actors and moves the camera so that all actors are visible.\n",
    "\n",
    "- __Keypress s:__ modify the representation of all actors so that they are surfaces.\n",
    "\n",
    "- __Keypress u:__ invoke the user-defined function. Typically, this keypress will bring up an interactor that you can type commands in.\n",
    "\n",
    "- __Keypress w:__ modify the representation of all actors so that they are wireframe."
   ]
  },
  {
   "cell_type": "code",
   "execution_count": 3,
   "metadata": {
    "collapsed": false
   },
   "outputs": [],
   "source": [
    "try:\n",
    "    a = get_QApplication([])\n",
    "except:\n",
    "    pass\n",
    "\n",
    "vtkWin = SimpleVtkViewer()\n",
    "\n",
    "vtkWin.add_actor(actor)\n",
    "\n",
    "# If the VTK window is blank/white, click on the window and hit 'r' to zoom to fit."
   ]
  },
  {
   "cell_type": "code",
   "execution_count": null,
   "metadata": {
    "collapsed": true
   },
   "outputs": [],
   "source": []
  }
 ],
 "metadata": {
  "kernelspec": {
   "display_name": "Python 2",
   "language": "python",
   "name": "python2"
  },
  "language_info": {
   "codemirror_mode": {
    "name": "ipython",
    "version": 2
   },
   "file_extension": ".py",
   "mimetype": "text/x-python",
   "name": "python",
   "nbconvert_exporter": "python",
   "pygments_lexer": "ipython2",
   "version": "2.7.11"
  }
 },
 "nbformat": 4,
 "nbformat_minor": 0
}
